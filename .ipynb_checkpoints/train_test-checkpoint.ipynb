{
 "cells": [
  {
   "cell_type": "code",
   "execution_count": null,
   "metadata": {
    "colab": {
     "base_uri": "https://localhost:8080/",
     "height": 34
    },
    "colab_type": "code",
    "executionInfo": {
     "elapsed": 72379,
     "status": "ok",
     "timestamp": 1556208136676,
     "user": {
      "displayName": "Chaunhewie Tian",
      "photoUrl": "https://lh4.googleusercontent.com/-K_cnsi_ZdWw/AAAAAAAAAAI/AAAAAAAAAA8/VXOJ9SNCpuw/s64/photo.jpg",
      "userId": "07759722813896836245"
     },
     "user_tz": -480
    },
    "id": "8tTKUKdNF90j",
    "outputId": "03ce0c5f-4138-4f9d-8823-2c696b5b5c50"
   },
   "outputs": [],
   "source": [
    "# 获取授权\n",
    "!apt-get install -y -qq software-properties-common module-init-tools\n",
    "!add-apt-repository -y ppa:alessandro-strada/ppa 2>&1 > /dev/null\n",
    "!apt-get update -qq 2>&1 > /dev/null\n",
    "!apt-get -y install -qq google-drive-ocamlfuse fuse\n",
    "from google.colab import auth\n",
    "auth.authenticate_user()\n",
    "from oauth2client.client import GoogleCredentials\n",
    "creds = GoogleCredentials.get_application_default()\n",
    "import getpass\n",
    "!google-drive-ocamlfuse -headless -id={creds.client_id} -secret={creds.client_secret} < /dev/null 2>&1 | grep URL\n",
    "vcode = getpass.getpass()\n",
    "!echo {vcode} | google-drive-ocamlfuse -headless -id={creds.client_id} -secret={creds.client_secret}"
   ]
  },
  {
   "cell_type": "code",
   "execution_count": null,
   "metadata": {
    "colab": {
     "base_uri": "https://localhost:8080/",
     "height": 51
    },
    "colab_type": "code",
    "executionInfo": {
     "elapsed": 9247,
     "status": "ok",
     "timestamp": 1556208150144,
     "user": {
      "displayName": "Chaunhewie Tian",
      "photoUrl": "https://lh4.googleusercontent.com/-K_cnsi_ZdWw/AAAAAAAAAAI/AAAAAAAAAA8/VXOJ9SNCpuw/s64/photo.jpg",
      "userId": "07759722813896836245"
     },
     "user_tz": -480
    },
    "id": "eW8YCA7BGVMG",
    "outputId": "2526cb43-c930-4ced-d6b4-92fafab78ef8"
   },
   "outputs": [],
   "source": [
    "# 指定Google Drive云端硬盘的根目录，名为drive\n",
    "!mkdir -p drive\n",
    "!google-drive-ocamlfuse drive"
   ]
  },
  {
   "cell_type": "code",
   "execution_count": null,
   "metadata": {
    "colab": {},
    "colab_type": "code",
    "id": "rhgBEpBhIcap"
   },
   "outputs": [],
   "source": [
    "import os\n",
    "os.chdir(\"drive/my_scripts\") "
   ]
  },
  {
   "cell_type": "code",
   "execution_count": null,
   "metadata": {
    "colab": {
     "base_uri": "https://localhost:8080/",
     "height": 136
    },
    "colab_type": "code",
    "executionInfo": {
     "elapsed": 10969,
     "status": "ok",
     "timestamp": 1556208155069,
     "user": {
      "displayName": "Chaunhewie Tian",
      "photoUrl": "https://lh4.googleusercontent.com/-K_cnsi_ZdWw/AAAAAAAAAAI/AAAAAAAAAA8/VXOJ9SNCpuw/s64/photo.jpg",
      "userId": "07759722813896836245"
     },
     "user_tz": -480
    },
    "id": "cEpeEkcdLDt-",
    "outputId": "e3beea04-3f28-452a-bfd4-ed0dee7c34dd"
   },
   "outputs": [],
   "source": [
    "# 云端默认没有face_recognition\n",
    "!pip install face_recognition"
   ]
  },
  {
   "cell_type": "code",
   "execution_count": null,
   "metadata": {
    "colab": {
     "base_uri": "https://localhost:8080/",
     "height": 391
    },
    "colab_type": "code",
    "executionInfo": {
     "elapsed": 20650,
     "status": "ok",
     "timestamp": 1556208168510,
     "user": {
      "displayName": "Chaunhewie Tian",
      "photoUrl": "https://lh4.googleusercontent.com/-K_cnsi_ZdWw/AAAAAAAAAAI/AAAAAAAAAA8/VXOJ9SNCpuw/s64/photo.jpg",
      "userId": "07759722813896836245"
     },
     "user_tz": -480
    },
    "id": "pJp72yYwKBAY",
    "outputId": "69753eb4-ad68-44fa-d5e5-7fbe734c05e0"
   },
   "outputs": [],
   "source": [
    "!ls\n",
    "!nvidia-smi\n",
    "!python --version"
   ]
  },
  {
   "cell_type": "code",
   "execution_count": 1,
   "metadata": {
    "colab": {
     "base_uri": "https://localhost:8080/",
     "height": 51
    },
    "colab_type": "code",
    "executionInfo": {
     "elapsed": 1031,
     "status": "ok",
     "timestamp": 1556210324383,
     "user": {
      "displayName": "Chaunhewie Tian",
      "photoUrl": "https://lh4.googleusercontent.com/-K_cnsi_ZdWw/AAAAAAAAAAI/AAAAAAAAAA8/VXOJ9SNCpuw/s64/photo.jpg",
      "userId": "07759722813896836245"
     },
     "user_tz": -480
    },
    "id": "e_WoO8cMFPbl",
    "outputId": "5f5ec469-2862-42e2-89dc-8d27688b146b"
   },
   "outputs": [
    {
     "name": "stdout",
     "output_type": "stream",
     "text": [
      "cuda available:  True\n",
      "using DEVICE:  cuda\n"
     ]
    }
   ],
   "source": [
    "%matplotlib inline\n",
    "from PIL import Image\n",
    "import matplotlib.pyplot as plt\n",
    "import os\n",
    "import sys\n",
    "import torch\n",
    "import torch.optim\n",
    "from torch.autograd import Variable\n",
    "import torch.nn as nn\n",
    "import numpy as np\n",
    "import argparse\n",
    "import time\n",
    "# 用于重新加载模块\n",
    "import importlib\n",
    "\n",
    "import networks.ACNN as net_ACNN\n",
    "importlib.reload(net_ACNN)\n",
    "ACNN = net_ACNN.ACNN\n",
    "import networks.ACCNN as net_ACCNN\n",
    "importlib.reload(net_ACCNN)\n",
    "ACCNN = net_ACCNN.ACCNN\n",
    "from networks.AlexNet import AlexNet\n",
    "from networks.VGG import vgg11_bn, vgg13_bn, vgg16_bn, vgg19_bn\n",
    "from networks.ResNet import resnet18, resnet34, resnet50, resnet101, resnet152\n",
    "# from dal.JAFFE_DataSet import JAFFE\n",
    "# from dal.CKPlus_DataSet import CKPlus\n",
    "# from dal.FER2013_DataSet import FER2013\n",
    "import dal.JAFFE_DataSet as JAFFE_DataSet\n",
    "import dal.CKPlus_DataSet as CKPlus_DataSet\n",
    "import dal.FER2013_DataSet as FER2013_DataSet\n",
    "# importlib.reload(JAFFE_DataSet)\n",
    "# importlib.reload(CKPlus_DataSet)\n",
    "# importlib.reload(FER2013_DataSet)\n",
    "JAFFE = JAFFE_DataSet.JAFFE\n",
    "CKPlus = CKPlus_DataSet.CKPlus\n",
    "FER2013 = FER2013_DataSet.FER2013\n",
    "import transforms.transforms as transforms\n",
    "import utils.utils as utils\n",
    "use_cuda = torch.cuda.is_available()\n",
    "DEVICE = torch.device(\"cuda\" if use_cuda else \"cpu\")  # 让torch判断是否使用GPU，建议使用GPU环境，因为会快很多\n",
    "print('cuda available: ', use_cuda)\n",
    "print('using DEVICE: ', DEVICE)\n",
    "enabled_nets = [\"ACNN\", \"ACCNN\", \"AlexNet\", \"VGG11\", \"VGG13\", \"VGG16\", \"VGG19\", \"ResNet18\", \"ResNet34\", \"ResNet50\",\n",
    "                \"ResNet101\", \"ResNet152\"]\n",
    "enabled_datasets = [\"JAFFE\", \"CK+\", \"FER2013\"]"
   ]
  },
  {
   "cell_type": "code",
   "execution_count": 2,
   "metadata": {
    "colab": {},
    "colab_type": "code",
    "id": "D0scksgMFPbw"
   },
   "outputs": [],
   "source": [
    "class OPT:\n",
    "    def __init__(self):\n",
    "        # Other Parameters\n",
    "        # 是否使用面部标记点进行训练\n",
    "        self.fl = True\n",
    "        # 存储的模型序号\n",
    "        self.save_number = 5\n",
    "        # 批次大小\n",
    "        self.bs = 32\n",
    "        # 学习率\n",
    "        self.lr = 0.01\n",
    "        # epoch\n",
    "        self.epoch = 200\n",
    "        # 每次获得到更优的准确率后，会进行一次存储，此选项选择是否从上次存储位置继续\n",
    "        self.resume = True\n",
    "        # 表示一开始的lrd_je个epoch，lr增大来解决一开始的收敛缓慢问题\n",
    "        self.lre_je = 20\n",
    "        # 表示默认从第 $lrd_se 次epoch开始进行lr的递减\n",
    "        self.lrd_se = 180\n",
    "        # 表示默认每经过2次epoch进行一次递减\n",
    "        self.lrd_s = 2\n",
    "        # 表示每次的lr的递减率，默认每递减一次乘一次0.9\n",
    "        self.lrd_r = 0.9\n",
    "        \n",
    "#         self.model, self.epoch, self.bs = 'ACNN', 500, 256\n",
    "        self.model, self.epoch, self.bs = 'ACCNN', 1000, 128\n",
    "#         self.model, self.epoch, self.bs = 'AlexNet', 500, 32\n",
    "#         self.model, self.epoch, self.bs = 'VGG11', 200, 32\n",
    "#         self.model, self.epoch, self.bs = 'VGG13', 200, 32\n",
    "#         self.model, self.epoch, self.bs = 'VGG16', 200, 32\n",
    "#         self.model, self.epoch, self.bs = 'VGG19', 200, 32\n",
    "#         self.model, self.epoch, self.bs = 'ResNet18', 200, 32\n",
    "#         self.model, self.epoch, self.bs = 'ResNet34', 200, 32\n",
    "#         self.model, self.epoch, self.bs = 'ResNet50', 200, 32\n",
    "#         self.model, self.epoch, self.bs = 'ResNet101', 200, 32\n",
    "#         self.model, self.epoch, self.bs = 'ResNet152', 200, 32\n",
    "        self.lre_je = int(self.epoch*0.1)\n",
    "        self.lrd_se = int(self.epoch*0.8)\n",
    "        self.lrd_s = int((self.epoch-self.lrd_se)/10)\n",
    "        \n",
    "        self.dataset = 'FER2013'\n",
    "#         self.dataset = 'JAFFE'\n",
    "#         self.dataset = 'CK+'\n",
    "opt = OPT()\n",
    "\n",
    "\n",
    "train_acc_map = {'best_acc': 0, 'best_acc_epoch': -1, 0: 0, 1: 0, 2: 0, 3: 0, 4: 0, 5: 0, 6: 0}\n",
    "test_acc_map = {'best_acc': 0, 'best_acc_epoch': -1, 0: 0, 1: 0, 2: 0, 3: 0, 4: 0, 5: 0, 6: 0}\n",
    "Train_acc, Test_acc = 0., 0."
   ]
  },
  {
   "cell_type": "code",
   "execution_count": 3,
   "metadata": {
    "colab": {
     "base_uri": "https://localhost:8080/",
     "height": 85
    },
    "colab_type": "code",
    "executionInfo": {
     "elapsed": 56468,
     "status": "ok",
     "timestamp": 1556210388903,
     "user": {
      "displayName": "Chaunhewie Tian",
      "photoUrl": "https://lh4.googleusercontent.com/-K_cnsi_ZdWw/AAAAAAAAAAI/AAAAAAAAAA8/VXOJ9SNCpuw/s64/photo.jpg",
      "userId": "07759722813896836245"
     },
     "user_tz": -480
    },
    "id": "kJSsPjSmPbz9",
    "outputId": "279e7da1-72d9-4f12-b994-acc1b48683b2"
   },
   "outputs": [
    {
     "name": "stdout",
     "output_type": "stream",
     "text": [
      "------------Preparing Data...----------------\n",
      "train_num:  18941  test_num: 3589\n",
      "train_num:  28709  test_num: 2334\n",
      "------------FER2013 Data Already be Prepared------------\n"
     ]
    }
   ],
   "source": [
    "reset_dataset = False\n",
    "if reset_dataset:\n",
    "    criterion, target_type = nn.CrossEntropyLoss(), 'ls'\n",
    "    print(\"------------Preparing Data...----------------\")\n",
    "    if opt.dataset == \"JAFFE\":\n",
    "        train_data = JAFFE(is_train=True, transform=None, target_type=target_type, using_fl=opt.fl)\n",
    "        test_data = JAFFE(is_train=False, transform=None, target_type=target_type, using_fl=opt.fl)\n",
    "    elif opt.dataset == \"CK+\":\n",
    "        train_data = CKPlus(is_train=True, transform=None, target_type=target_type, using_fl=opt.fl)\n",
    "        test_data = CKPlus(is_train=False, transform=None, target_type=target_type, using_fl=opt.fl)\n",
    "    elif opt.dataset == \"FER2013\":\n",
    "        train_data = FER2013(is_train=True, private_test=True, transform=None, target_type=target_type,\n",
    "                             using_fl=opt.fl)\n",
    "        test_data = FER2013(is_train=False, private_test=True, transform=None, target_type=target_type,\n",
    "                            using_fl=opt.fl)\n",
    "    else:\n",
    "        assert(\"opt.dataset should be in %s, but got %s\" % (enabled_datasets, opt.dataset))\n",
    "    print(\"------------%s Data Already be Prepared------------\" % opt.dataset)"
   ]
  },
  {
   "cell_type": "code",
   "execution_count": 4,
   "metadata": {
    "colab": {
     "base_uri": "https://localhost:8080/",
     "height": 102
    },
    "colab_type": "code",
    "executionInfo": {
     "elapsed": 54545,
     "status": "ok",
     "timestamp": 1556210388905,
     "user": {
      "displayName": "Chaunhewie Tian",
      "photoUrl": "https://lh4.googleusercontent.com/-K_cnsi_ZdWw/AAAAAAAAAAI/AAAAAAAAAA8/VXOJ9SNCpuw/s64/photo.jpg",
      "userId": "07759722813896836245"
     },
     "user_tz": -480
    },
    "id": "fRl8SEjlFPby",
    "outputId": "1b99ad62-751b-4c91-b4aa-ca348f56c5d8"
   },
   "outputs": [
    {
     "name": "stdout",
     "output_type": "stream",
     "text": [
      "------------Preparing Model...----------------\n",
      "Initializing ACCNN weights...\n",
      "Init ACCNN model over!\n",
      "==> Loading Model Parameters...\n",
      "------------ACCNN Model Already be Prepared------------\n"
     ]
    }
   ],
   "source": [
    "print(\"------------Preparing Model...----------------\")\n",
    "n_classes = 7\n",
    "net_to_save_dir = \"Saved_Models\"\n",
    "net_to_save_path = os.path.join(net_to_save_dir, str(opt.save_number), opt.dataset+'_'+opt.model+'_'+str(opt.save_number))\n",
    "if opt.fl:\n",
    "    saved_model_name = \"Best_model_fl.t7\"\n",
    "else:\n",
    "    saved_model_name = \"Best_model.t7\"\n",
    "if opt.fl:\n",
    "    model_over_flag_name = \"__%d_success_fl__\" % (opt.epoch)\n",
    "else:\n",
    "    model_over_flag_name = \"__%d_success__\" % (opt.epoch)\n",
    "over_flag = False  # 如果已经成功训练完，就可以结束了\n",
    "if opt.model.lower() == \"ACNN\".lower():\n",
    "    net = ACNN(n_classes=n_classes).to(DEVICE)\n",
    "elif opt.model.lower() == \"ACCNN\".lower():\n",
    "    net = ACCNN(n_classes=n_classes).to(DEVICE)\n",
    "elif opt.model.lower() == \"AlexNet\".lower():\n",
    "    net = AlexNet(n_classes=n_classes).to(DEVICE)\n",
    "elif opt.model.lower() == \"VGG11\".lower():\n",
    "    net = vgg11_bn(n_classes=n_classes).to(DEVICE)\n",
    "elif opt.model.lower() == \"VGG13\".lower():\n",
    "    net = vgg13_bn(n_classes=n_classes).to(DEVICE)\n",
    "elif opt.model.lower() == \"VGG16\".lower():\n",
    "    net = vgg16_bn(n_classes=n_classes).to(DEVICE)\n",
    "elif opt.model.lower() == \"VGG19\".lower():\n",
    "    net = vgg19_bn(n_classes=n_classes).to(DEVICE)\n",
    "elif opt.model.lower() == \"ResNet18\".lower():\n",
    "    net = resnet18(n_classes=n_classes).to(DEVICE)\n",
    "elif opt.model.lower() == \"ResNet34\".lower():\n",
    "    net = resnet34(n_classes=n_classes).to(DEVICE)\n",
    "elif opt.model.lower() == \"ResNet50\".lower():\n",
    "    net = resnet50(n_classes=n_classes).to(DEVICE)\n",
    "elif opt.model.lower() == \"ResNet101\".lower():\n",
    "    net = resnet101(n_classes=n_classes).to(DEVICE)\n",
    "elif opt.model.lower() == \"ResNet152\".lower():\n",
    "    net = resnet152(n_classes=n_classes).to(DEVICE)\n",
    "else:\n",
    "    net = None\n",
    "    assert(\"opt.model should be in %s, but got %s\" % (enabled_nets, opt.model))\n",
    "start_epoch = 0\n",
    "if opt.resume:\n",
    "    # Load checkpoint.\n",
    "    print('==> Loading Model Parameters...')\n",
    "    if os.path.exists(os.path.join(net_to_save_path, saved_model_name)):\n",
    "        if os.path.exists(os.path.join(net_to_save_path, model_over_flag_name)):\n",
    "            print(\"Model trained over flag checked!\")\n",
    "            over_flag = True\n",
    "        assert os.path.isdir(net_to_save_path), 'Error: no checkpoint directory found!'\n",
    "        checkpoint = torch.load(os.path.join(net_to_save_path, saved_model_name))\n",
    "        net.load_state_dict(checkpoint['net'])\n",
    "        test_acc_map['best_acc'] = checkpoint['best_test_acc']\n",
    "        test_acc_map['best_acc_epoch'] = checkpoint['best_test_acc_epoch']\n",
    "        start_epoch = test_acc_map['best_acc_epoch'] + 1\n",
    "    else:\n",
    "        print(\"Checkout File not Found, No initialization.\")\n",
    "print(\"------------%s Model Already be Prepared------------\" % opt.model)\n",
    "\n",
    "# for gray images\n",
    "IMG_MEAN = [0.449]\n",
    "IMG_STD = [0.226]\n",
    "\n",
    "input_img_size = net.input_size\n",
    "transform_train = transforms.Compose([\n",
    "    transforms.Resize(input_img_size),  # 缩放将图片的最小边缩放为 input_img_size，因此如果输入是非正方形的，那么输出也不是正方形的\n",
    "    transforms.RandomHorizontalFlip(),\n",
    "    transforms.RandomRotation(30),\n",
    "    transforms.ToTensor(),\n",
    "    transforms.Normalize(IMG_MEAN, IMG_STD),\n",
    "])\n",
    "\n",
    "test_img_size = int(input_img_size * 1.1)  # 测试时，图片resize大小\n",
    "transform_test = transforms.Compose([\n",
    "    transforms.Resize(input_img_size),  # 缩放将图片的最小边缩放为 input_img_size，因此如果输入是非正方形的，那么输出也不是正方形的\n",
    "    transforms.ToTensor(),\n",
    "    transforms.Normalize(IMG_MEAN, IMG_STD),\n",
    "])\n",
    "\n",
    "# 随机梯度下降\n",
    "optimizer = torch.optim.SGD(net.parameters(), lr=opt.lr, momentum=0.9, weight_decay=5e-4)\n",
    "\n",
    "train_data.set_transform(transform_train)\n",
    "test_data.set_transform(transform_test)\n",
    "train_loader = torch.utils.data.DataLoader(train_data, batch_size=opt.bs, shuffle=True)\n",
    "test_loader = torch.utils.data.DataLoader(test_data, batch_size=opt.bs, shuffle=False)"
   ]
  },
  {
   "cell_type": "code",
   "execution_count": 5,
   "metadata": {
    "colab": {},
    "colab_type": "code",
    "id": "VbnQAQuBP0BD"
   },
   "outputs": [
    {
     "name": "stdout",
     "output_type": "stream",
     "text": [
      "(1, 223, 223)\n"
     ]
    },
    {
     "data": {
      "image/png": "[encoded data removed]",
      "text/plain": [
       "<matplotlib.figure.Figure at 0x286d4ed3be0>"
      ]
     },
     "metadata": {},
     "output_type": "display_data"
    },
    {
     "name": "stdout",
     "output_type": "stream",
     "text": [
      "(1, 223, 223)\n"
     ]
    },
    {
     "data": {
      "image/png": "[encoded data removed]",
      "text/plain": [
       "<matplotlib.figure.Figure at 0x2878b155320>"
      ]
     },
     "metadata": {},
     "output_type": "display_data"
    },
    {
     "name": "stdout",
     "output_type": "stream",
     "text": [
      "(1, 223, 223)\n"
     ]
    },
    {
     "data": {
      "image/png": "[encoded data removed]",
      "text/plain": [
       "<matplotlib.figure.Figure at 0x2878b1ea4e0>"
      ]
     },
     "metadata": {},
     "output_type": "display_data"
    },
    {
     "name": "stdout",
     "output_type": "stream",
     "text": [
      "(1, 223, 223)\n"
     ]
    },
    {
     "data": {
      "image/png": "[encoded data removed]",
      "text/plain": [
       "<matplotlib.figure.Figure at 0x2878b1a5da0>"
      ]
     },
     "metadata": {},
     "output_type": "display_data"
    },
    {
     "name": "stdout",
     "output_type": "stream",
     "text": [
      "(1, 223, 223)\n"
     ]
    },
    {
     "data": {
      "image/png": "[encoded data removed]",
      "text/plain": [
       "<matplotlib.figure.Figure at 0x2878b65a438>"
      ]
     },
     "metadata": {},
     "output_type": "display_data"
    },
    {
     "name": "stdout",
     "output_type": "stream",
     "text": [
      "(1, 223, 223)\n"
     ]
    },
    {
     "data": {
      "image/png": "[encoded data removed]",
      "text/plain": [
       "<matplotlib.figure.Figure at 0x2878d00d550>"
      ]
     },
     "metadata": {},
     "output_type": "display_data"
    },
    {
     "name": "stdout",
     "output_type": "stream",
     "text": [
      "(1, 223, 223)\n"
     ]
    },
    {
     "data": {
      "image/png": "[encoded data removed]",
      "text/plain": [
       "<matplotlib.figure.Figure at 0x2878d05d390>"
      ]
     },
     "metadata": {},
     "output_type": "display_data"
    }
   ],
   "source": [
    "# 测试数据集输出的正确性\n",
    "itr = enumerate(train_loader)\n",
    "bs, (inputs, targets) = next(itr)\n",
    "inputs, targets = inputs.numpy(), targets.numpy()\n",
    "for index in range(len(inputs)):\n",
    "    input = inputs[index]\n",
    "    print(input.shape)\n",
    "    arr = input.reshape([input.shape[1], input.shape[2]])\n",
    "    fig = plt.figure()\n",
    "    ax = fig.add_subplot(121)\n",
    "    ax.imshow(arr, cmap=\"gray\")\n",
    "    plt.show()\n",
    "    if index > 5:\n",
    "        break"
   ]
  },
  {
   "cell_type": "code",
   "execution_count": 6,
   "metadata": {
    "colab": {},
    "colab_type": "code",
    "id": "VRT9Be8cFPcB"
   },
   "outputs": [],
   "source": [
    "# Training\n",
    "def train(epoch, jump_out_lr=-1.):\n",
    "    # 根据训练的epoch次数来降低learning rate\n",
    "    if epoch > opt.lrd_se > 0:\n",
    "        frac = (epoch - opt.lrd_se) // opt.lrd_s\n",
    "        decay_factor = opt.lrd_r ** frac\n",
    "        current_lr = opt.lr * decay_factor  # current_lr = opt.lr * 降低率 ^ ((epoch - 开始decay的epoch) // 每次decay的epoch num)\n",
    "        utils.set_lr(optimizer, current_lr)  # set the learning rate\n",
    "    else:\n",
    "        current_lr = opt.lr\n",
    "    if epoch < opt.lre_je:\n",
    "        current_lr *= 1.5  # 解决一开始收敛慢的问题\n",
    "    print('learning_rate: %s' % str(current_lr))\n",
    "    global Train_acc\n",
    "    net.train()\n",
    "    train_loss = 0\n",
    "    correct = 0\n",
    "    total = 0\n",
    "    cur_train_acc = 0.\n",
    "    time_start = time.time()\n",
    "    for batch_idx, (inputs, targets) in enumerate(train_loader):\n",
    "        if use_cuda:\n",
    "            inputs, targets = inputs.to(DEVICE), targets.to(DEVICE, torch.long)\n",
    "        optimizer.zero_grad()\n",
    "        inputs, targets = Variable(inputs), Variable(targets)\n",
    "        outputs = net(inputs)\n",
    "        # print(\"outputs:\", outputs)\n",
    "        # print(\"targets:\", targets)\n",
    "        loss = criterion(outputs, targets)\n",
    "        loss.backward()\n",
    "        utils.clip_gradient(optimizer, 2*current_lr)  # 解决梯度爆炸 https://blog.csdn.net/u010814042/article/details/76154391\n",
    "        optimizer.step()\n",
    "\n",
    "        train_loss += float(loss.data)\n",
    "        _, predicted = torch.max(outputs.data, 1)  # torch.max() 加上dim参数后，返回值为 max_value, max_value_index\n",
    "        if target_type == 'ls':\n",
    "            ground_value = targets.data\n",
    "        elif target_type == 'fa':\n",
    "            _, ground_value = torch.max(targets.data, 1)\n",
    "        # print(\"predicted:\", predicted)\n",
    "        # print(\"ground_value:\", ground_value)\n",
    "\n",
    "        for i in range(len(predicted)):\n",
    "            if predicted[i] == ground_value[i]:\n",
    "                train_acc_map[predicted[i].item()] += 1\n",
    "\n",
    "        total += targets.size(0)\n",
    "        correct += predicted.eq(ground_value.data).cpu().sum()\n",
    "        # print(\"equal: \", predicted.eq(ground_value.data).cpu())\n",
    "        cur_train_acc = float(correct) / float(total) * 100.\n",
    "\n",
    "        time_end = time.time()\n",
    "        duration = time_end - time_start\n",
    "        utils.progress_bar(batch_idx, len(train_loader), 'Time: %.2fs | Loss: %.3f | Acc: %.3f%% (%d/%d)' %\n",
    "                           (duration, train_loss / (batch_idx + 1), cur_train_acc, correct, total))\n",
    "\n",
    "        # 删除无用的变量，释放显存\n",
    "        del loss\n",
    "        del inputs\n",
    "        del outputs\n",
    "        del predicted\n",
    "    Train_acc = cur_train_acc\n",
    "    if train_acc_map['best_acc'] < Train_acc:\n",
    "        train_acc_map['best_acc'] = Train_acc\n",
    "        train_acc_map['best_acc_epoch'] = epoch\n",
    "\n",
    "\n",
    "# Testing\n",
    "def test(epoch):\n",
    "    global Test_acc\n",
    "    private_test_loss = 0\n",
    "    net.eval()\n",
    "    correct = 0\n",
    "    total = 0\n",
    "    cur_test_acc = 0.\n",
    "    correct_map = [0, 0, 0, 0, 0, 0, 0]\n",
    "    time_start = time.time()\n",
    "    with torch.no_grad():\n",
    "        for batch_idx, (inputs, targets) in enumerate(test_loader):\n",
    "            bs, c, h, w = np.shape(inputs)\n",
    "            # bs, ncrops, c, h, w = np.shape(inputs)\n",
    "            inputs = inputs.view(-1, c, h, w)\n",
    "            if use_cuda:\n",
    "                inputs, targets = inputs.to(DEVICE), targets.to(DEVICE, torch.long)\n",
    "            inputs, targets = Variable(inputs), Variable(targets)\n",
    "            outputs = net(inputs)\n",
    "\n",
    "            # avg over crops if test_transform contains crop operations\n",
    "            # outputs_avg = outputs.view(bs, ncrops, -1).mean(1)\n",
    "            outputs_avg = outputs\n",
    "\n",
    "            loss = criterion(outputs_avg, targets)\n",
    "            private_test_loss += float(loss.data)\n",
    "            _, predicted = torch.max(outputs_avg.data, 1)\n",
    "            if target_type == 'ls':\n",
    "                ground_value = targets.data\n",
    "            elif target_type == 'fa':\n",
    "                _, ground_value = torch.max(targets.data, 1)\n",
    "\n",
    "            for i in range(len(predicted)):\n",
    "                if predicted[i] == ground_value[i]:\n",
    "                    c = predicted[i].item()\n",
    "                    test_acc_map[c] += 1\n",
    "                    correct_map[c] += 1\n",
    "\n",
    "            total += targets.size(0)\n",
    "            correct += predicted.eq(ground_value.data).cpu().sum()\n",
    "            cur_test_acc = float(correct) / float(total) * 100.\n",
    "\n",
    "            time_end = time.time()\n",
    "            duration = time_end - time_start\n",
    "            utils.progress_bar(batch_idx, len(test_loader), 'Time: %.2fs | Loss: %.3f | Acc: %.3f%% (%d/%d)' %\n",
    "                               (duration, private_test_loss / (batch_idx + 1), cur_test_acc, correct, total))\n",
    "\n",
    "            # 删除无用的变量，释放显存\n",
    "            del loss\n",
    "            del inputs\n",
    "            del outputs\n",
    "            del predicted\n",
    "\n",
    "    Test_acc = cur_test_acc\n",
    "    if test_acc_map['best_acc'] < Test_acc:\n",
    "        test_acc_map['best_acc'] = Test_acc\n",
    "        test_acc_map['best_acc_epoch'] = epoch\n",
    "        print('Saving net to %s' % net_to_save_path)\n",
    "        print('best_acc: %0.3f' % test_acc_map['best_acc'])\n",
    "        print('correct_map: %s' % correct_map)\n",
    "        state = {'net': net.state_dict() if use_cuda else net,\n",
    "                 'best_test_acc': test_acc_map['best_acc'],\n",
    "                 'best_test_acc_epoch': test_acc_map['best_acc_epoch'],\n",
    "                 'correct_map': correct_map,\n",
    "                 }\n",
    "        if not os.path.isdir(net_to_save_dir):\n",
    "            os.mkdir(net_to_save_dir)\n",
    "        if not os.path.isdir(os.path.join(net_to_save_dir, str(opt.save_number))):\n",
    "            os.mkdir(os.path.join(net_to_save_dir, str(opt.save_number)))\n",
    "        if not os.path.isdir(net_to_save_path):\n",
    "            os.mkdir(net_to_save_path)\n",
    "        torch.save(state, os.path.join(net_to_save_path, saved_model_name))\n",
    "        \n",
    "\n",
    "def save_over_flag():\n",
    "    file_path = os.path.join(net_to_save_path, model_over_flag_name)\n",
    "    with open(file_path, \"w+\", encoding=\"utf-8\") as file:\n",
    "        file.write(train_acc_map.__str__())\n",
    "        file.write(\"\\n\")\n",
    "        file.write(test_acc_map.__str__())\n",
    "        file.write(\"\\n\")\n"
   ]
  },
  {
   "cell_type": "code",
   "execution_count": 7,
   "metadata": {
    "colab": {
     "base_uri": "https://localhost:8080/",
     "height": 8228
    },
    "colab_type": "code",
    "id": "VET9IwJvFPcE",
    "outputId": "0d3ecd67-9578-4a19-90bc-06a4d239ac57"
   },
   "outputs": [
    {
     "name": "stdout",
     "output_type": "stream",
     "text": [
      "\n",
      "------------Epoch: 491-------------\n",
      "learning_rate: 0.01\n",
      "[==============================>] | Time: 264.65s | Loss: 1.549 | Acc: 61.486% (11646/18941)\n",
      "[==============================>] | Time: 13.17s | Loss: 1.558 | Acc: 60.411% (1410/2334)\n",
      "\n",
      "------------Epoch: 492-------------\n",
      "learning_rate: 0.01\n",
      "[==============================>] | Time: 129.81s | Loss: 1.554 | Acc: 60.968% (11548/18941)\n",
      "[==============================>] | Time: 5.92s | Loss: 1.576 | Acc: 58.483% (1365/2334)\n",
      "\n",
      "------------Epoch: 493-------------\n",
      "learning_rate: 0.01\n",
      "[==============================>] | Time: 101.87s | Loss: 1.558 | Acc: 60.504% (11460/18941)\n",
      "[==============================>] | Time: 5.57s | Loss: 1.572 | Acc: 58.783% (1372/2334)\n",
      "\n",
      "------------Epoch: 494-------------\n",
      "learning_rate: 0.01\n",
      "[==============================>] | Time: 104.52s | Loss: 1.557 | Acc: 60.731% (11503/18941)\n",
      "[==============================>] | Time: 5.78s | Loss: 1.566 | Acc: 59.640% (1392/2334)\n",
      "\n",
      "------------Epoch: 495-------------\n",
      "learning_rate: 0.01\n",
      "[==============================>] | Time: 104.28s | Loss: 1.563 | Acc: 59.970% (11359/18941)\n",
      "[==============================>] | Time: 5.66s | Loss: 1.555 | Acc: 60.154% (1404/2334)\n",
      "\n",
      "------------Epoch: 496-------------\n",
      "learning_rate: 0.01\n",
      "[==============================>] | Time: 106.00s | Loss: 1.554 | Acc: 60.826% (11521/18941)\n",
      "[==============================>] | Time: 11.12s | Loss: 1.563 | Acc: 59.769% (1395/2334)\n",
      "\n",
      "------------Epoch: 497-------------\n",
      "learning_rate: 0.01\n",
      "[==============================>] | Time: 121.56s | Loss: 1.558 | Acc: 60.461% (11452/18941)\n",
      "[==============================>] | Time: 5.97s | Loss: 1.562 | Acc: 59.640% (1392/2334)\n",
      "\n",
      "------------Epoch: 498-------------\n",
      "learning_rate: 0.01\n",
      "[==============================>] | Time: 105.01s | Loss: 1.559 | Acc: 60.520% (11463/18941)\n",
      "[==============================>] | Time: 6.31s | Loss: 1.567 | Acc: 59.426% (1387/2334)\n",
      "\n",
      "------------Epoch: 499-------------\n",
      "learning_rate: 0.01\n",
      "[==============================>] | Time: 103.48s | Loss: 1.559 | Acc: 60.446% (11449/18941)\n",
      "[==============================>] | Time: 5.67s | Loss: 1.562 | Acc: 59.769% (1395/2334)\n",
      "\n",
      "------------Epoch: 500-------------\n",
      "learning_rate: 0.01\n",
      "[==============================>] | Time: 104.16s | Loss: 1.554 | Acc: 61.011% (11556/18941)\n",
      "[==============================>] | Time: 5.42s | Loss: 1.571 | Acc: 58.912% (1375/2334)\n",
      "\n",
      "------------Epoch: 501-------------\n",
      "learning_rate: 0.01\n",
      "[==============================>] | Time: 100.11s | Loss: 1.553 | Acc: 61.021% (11558/18941)\n",
      "[==============================>] | Time: 5.39s | Loss: 1.568 | Acc: 59.340% (1385/2334)\n",
      "\n",
      "------------Epoch: 502-------------\n",
      "learning_rate: 0.01\n",
      "[==============================>] | Time: 99.59s | Loss: 1.554 | Acc: 60.815% (11519/18941)\n",
      "[==============================>] | Time: 5.27s | Loss: 1.562 | Acc: 59.897% (1398/2334)\n",
      "\n",
      "------------Epoch: 503-------------\n",
      "learning_rate: 0.01\n",
      "[==============================>] | Time: 100.05s | Loss: 1.554 | Acc: 60.868% (11529/18941)\n",
      "[==============================>] | Time: 5.36s | Loss: 1.560 | Acc: 59.597% (1391/2334)\n",
      "\n",
      "------------Epoch: 504-------------\n",
      "learning_rate: 0.01\n",
      "[==============================>] | Time: 99.56s | Loss: 1.553 | Acc: 60.942% (11543/18941)\n",
      "[==============================>] | Time: 5.39s | Loss: 1.558 | Acc: 60.368% (1409/2334)\n",
      "\n",
      "------------Epoch: 505-------------\n",
      "learning_rate: 0.01\n",
      "[==============================>] | Time: 100.09s | Loss: 1.555 | Acc: 60.789% (11514/18941)\n",
      "[==============================>] | Time: 5.40s | Loss: 1.563 | Acc: 59.811% (1396/2334)\n",
      "\n",
      "------------Epoch: 506-------------\n",
      "learning_rate: 0.01\n",
      "[==============================>] | Time: 99.66s | Loss: 1.557 | Acc: 60.456% (11451/18941)\n",
      "[==============================>] | Time: 5.32s | Loss: 1.562 | Acc: 59.897% (1398/2334)\n",
      "\n",
      "------------Epoch: 507-------------\n",
      "learning_rate: 0.01\n",
      "[==============================>] | Time: 99.48s | Loss: 1.554 | Acc: 60.810% (11518/18941)\n",
      "[==============================>] | Time: 5.32s | Loss: 1.561 | Acc: 59.940% (1399/2334)\n",
      "\n",
      "------------Epoch: 508-------------\n",
      "learning_rate: 0.01\n",
      "[==============================>] | Time: 100.07s | Loss: 1.556 | Acc: 60.673% (11492/18941)\n",
      "[==============================>] | Time: 5.32s | Loss: 1.556 | Acc: 60.797% (1419/2334)\n",
      "\n",
      "------------Epoch: 509-------------\n",
      "learning_rate: 0.01\n",
      "[==============================>] | Time: 99.93s | Loss: 1.554 | Acc: 60.931% (11541/18941)\n",
      "[==============================>] | Time: 5.47s | Loss: 1.555 | Acc: 60.326% (1408/2334)\n",
      "\n",
      "------------Epoch: 510-------------\n",
      "learning_rate: 0.01\n",
      "[==============================>] | Time: 99.21s | Loss: 1.554 | Acc: 60.995% (11553/18941)\n",
      "[==============================>] | Time: 5.27s | Loss: 1.569 | Acc: 59.040% (1378/2334)\n",
      "\n",
      "------------Epoch: 511-------------\n",
      "learning_rate: 0.01\n",
      "[==============================>] | Time: 99.03s | Loss: 1.554 | Acc: 60.900% (11535/18941)\n",
      "[==============================>] | Time: 5.24s | Loss: 1.561 | Acc: 59.983% (1400/2334)\n",
      "\n",
      "------------Epoch: 512-------------\n",
      "learning_rate: 0.01\n",
      "[==============================>] | Time: 99.60s | Loss: 1.556 | Acc: 60.731% (11503/18941)\n",
      "[==============================>] | Time: 5.30s | Loss: 1.554 | Acc: 60.411% (1410/2334)\n",
      "\n",
      "------------Epoch: 513-------------\n",
      "learning_rate: 0.01\n",
      "[==============================>] | Time: 100.41s | Loss: 1.552 | Acc: 61.232% (11598/18941)\n",
      "[==============================>] | Time: 5.42s | Loss: 1.564 | Acc: 59.897% (1398/2334)\n",
      "\n",
      "------------Epoch: 514-------------\n",
      "learning_rate: 0.01\n",
      "[==============================>] | Time: 101.57s | Loss: 1.553 | Acc: 60.952% (11545/18941)\n",
      "[==============================>] | Time: 5.31s | Loss: 1.557 | Acc: 60.240% (1406/2334)\n",
      "\n",
      "------------Epoch: 515-------------\n",
      "learning_rate: 0.01\n",
      "[==============================>] | Time: 100.24s | Loss: 1.555 | Acc: 60.905% (11536/18941)\n",
      "[==============================>] | Time: 5.27s | Loss: 1.561 | Acc: 59.726% (1394/2334)\n",
      "\n",
      "------------Epoch: 516-------------\n",
      "learning_rate: 0.01\n",
      "[==============================>] | Time: 99.84s | Loss: 1.552 | Acc: 61.037% (11561/18941)\n",
      "[==============================>] | Time: 5.36s | Loss: 1.563 | Acc: 59.683% (1393/2334)\n",
      "\n",
      "------------Epoch: 517-------------\n",
      "learning_rate: 0.01\n",
      "[==============================>] | Time: 99.86s | Loss: 1.554 | Acc: 60.879% (11531/18941)\n",
      "[==============================>] | Time: 5.29s | Loss: 1.560 | Acc: 59.597% (1391/2334)\n",
      "\n",
      "------------Epoch: 518-------------\n",
      "learning_rate: 0.01\n",
      "[==============================>] | Time: 99.82s | Loss: 1.557 | Acc: 60.535% (11466/18941)\n",
      "[==============================>] | Time: 5.26s | Loss: 1.564 | Acc: 59.426% (1387/2334)\n",
      "\n",
      "------------Epoch: 519-------------\n",
      "learning_rate: 0.01\n",
      "[==============================>] | Time: 99.53s | Loss: 1.554 | Acc: 60.910% (11537/18941)\n",
      "[==============================>] | Time: 5.28s | Loss: 1.560 | Acc: 59.512% (1389/2334)\n",
      "\n",
      "------------Epoch: 520-------------\n",
      "learning_rate: 0.01\n",
      "[==============================>] | Time: 100.60s | Loss: 1.552 | Acc: 61.164% (11585/18941)\n",
      "[==============================>] | Time: 5.48s | Loss: 1.558 | Acc: 60.368% (1409/2334)\n",
      "\n",
      "------------Epoch: 521-------------\n",
      "learning_rate: 0.01\n",
      "[==============================>] | Time: 100.67s | Loss: 1.554 | Acc: 60.979% (11550/18941)\n",
      "[==============================>] | Time: 5.30s | Loss: 1.587 | Acc: 56.941% (1329/2334)\n",
      "\n",
      "------------Epoch: 522-------------\n",
      "learning_rate: 0.01\n",
      "[==============================>] | Time: 100.34s | Loss: 1.557 | Acc: 60.683% (11494/18941)\n",
      "[==============================>] | Time: 5.42s | Loss: 1.573 | Acc: 58.783% (1372/2334)\n",
      "\n",
      "------------Epoch: 523-------------\n",
      "learning_rate: 0.01\n",
      "[==============================>] | Time: 99.92s | Loss: 1.555 | Acc: 60.757% (11508/18941)\n",
      "[==============================>] | Time: 5.31s | Loss: 1.560 | Acc: 60.026% (1401/2334)\n",
      "\n",
      "------------Epoch: 524-------------\n",
      "learning_rate: 0.01\n",
      "[==============================>] | Time: 99.64s | Loss: 1.555 | Acc: 60.715% (11500/18941)\n",
      "[==============================>] | Time: 5.27s | Loss: 1.560 | Acc: 59.769% (1395/2334)\n",
      "\n",
      "------------Epoch: 525-------------\n",
      "learning_rate: 0.01\n",
      "[==============================>] | Time: 99.13s | Loss: 1.553 | Acc: 60.952% (11545/18941)\n",
      "[==============================>] | Time: 5.32s | Loss: 1.569 | Acc: 59.083% (1379/2334)\n",
      "\n",
      "------------Epoch: 526-------------\n",
      "learning_rate: 0.01\n",
      "[==============================>] | Time: 100.03s | Loss: 1.554 | Acc: 60.699% (11497/18941)\n",
      "[==============================>] | Time: 5.27s | Loss: 1.561 | Acc: 59.512% (1389/2334)\n",
      "\n",
      "------------Epoch: 527-------------\n",
      "learning_rate: 0.01\n",
      "[==============================>] | Time: 99.57s | Loss: 1.558 | Acc: 60.377% (11436/18941)\n",
      "[==============================>] | Time: 5.28s | Loss: 1.565 | Acc: 59.340% (1385/2334)\n",
      "\n",
      "------------Epoch: 528-------------\n",
      "learning_rate: 0.01\n",
      "[==============================>] | Time: 99.70s | Loss: 1.554 | Acc: 60.820% (11520/18941)\n",
      "[==============================>] | Time: 5.32s | Loss: 1.560 | Acc: 59.769% (1395/2334)\n",
      "\n",
      "------------Epoch: 529-------------\n",
      "learning_rate: 0.01\n",
      "[==============================>] | Time: 102.08s | Loss: 1.552 | Acc: 61.084% (11570/18941)\n",
      "[==============================>] | Time: 5.62s | Loss: 1.559 | Acc: 60.240% (1406/2334)\n",
      "\n",
      "------------Epoch: 530-------------\n",
      "learning_rate: 0.01\n",
      "[==============================>] | Time: 104.13s | Loss: 1.552 | Acc: 61.106% (11574/18941)\n",
      "[==============================>] | Time: 5.82s | Loss: 1.563 | Acc: 59.426% (1387/2334)\n",
      "\n",
      "------------Epoch: 531-------------\n",
      "learning_rate: 0.01\n",
      "[==============================>] | Time: 104.35s | Loss: 1.554 | Acc: 60.894% (11534/18941)\n",
      "[==============================>] | Time: 5.58s | Loss: 1.577 | Acc: 58.141% (1357/2334)\n",
      "\n",
      "------------Epoch: 532-------------\n",
      "learning_rate: 0.01\n",
      "[==============================>] | Time: 102.65s | Loss: 1.558 | Acc: 60.409% (11442/18941)\n",
      "[==============================>] | Time: 6.47s | Loss: 1.567 | Acc: 59.340% (1385/2334)\n",
      "\n",
      "------------Epoch: 533-------------\n",
      "learning_rate: 0.01\n",
      "[==============================>] | Time: 121.66s | Loss: 1.554 | Acc: 61.011% (11556/18941)\n",
      "[==============================>] | Time: 7.80s | Loss: 1.565 | Acc: 60.026% (1401/2334)\n",
      "\n",
      "------------Epoch: 534-------------\n",
      "learning_rate: 0.01\n",
      "[==============================>] | Time: 102.41s | Loss: 1.548 | Acc: 61.449% (11639/18941)\n",
      "[==============================>] | Time: 5.91s | Loss: 1.557 | Acc: 60.111% (1403/2334)\n",
      "\n",
      "------------Epoch: 535-------------\n",
      "learning_rate: 0.01\n",
      "[==============================>] | Time: 101.00s | Loss: 1.552 | Acc: 61.216% (11595/18941)\n",
      "[==============================>] | Time: 5.74s | Loss: 1.556 | Acc: 60.497% (1412/2334)\n",
      "\n",
      "------------Epoch: 536-------------\n",
      "learning_rate: 0.01\n",
      "[==============================>] | Time: 102.18s | Loss: 1.553 | Acc: 61.074% (11568/18941)\n",
      "[==============================>] | Time: 9.74s | Loss: 1.566 | Acc: 59.683% (1393/2334)\n",
      "\n",
      "------------Epoch: 537-------------\n",
      "learning_rate: 0.01\n",
      "[==============================>] | Time: 104.28s | Loss: 1.554 | Acc: 60.889% (11533/18941)\n",
      "[==============================>] | Time: 5.99s | Loss: 1.571 | Acc: 58.612% (1368/2334)\n",
      "\n",
      "------------Epoch: 538-------------\n",
      "learning_rate: 0.01\n",
      "[==============================>] | Time: 100.70s | Loss: 1.553 | Acc: 60.958% (11546/18941)\n",
      "[==============================>] | Time: 5.38s | Loss: 1.557 | Acc: 60.454% (1411/2334)\n",
      "\n",
      "------------Epoch: 539-------------\n",
      "learning_rate: 0.01\n",
      "[==============================>] | Time: 99.79s | Loss: 1.553 | Acc: 61.047% (11563/18941)\n",
      "[==============================>] | Time: 5.32s | Loss: 1.555 | Acc: 60.069% (1402/2334)\n",
      "\n",
      "------------Epoch: 540-------------\n",
      "learning_rate: 0.01\n",
      "[==============================>] | Time: 99.70s | Loss: 1.551 | Acc: 61.174% (11587/18941)\n",
      "[==============================>] | Time: 5.31s | Loss: 1.569 | Acc: 59.040% (1378/2334)\n",
      "\n",
      "------------Epoch: 541-------------\n",
      "learning_rate: 0.01\n",
      "[==============================>] | Time: 99.61s | Loss: 1.550 | Acc: 61.264% (11604/18941)\n",
      "[==============================>] | Time: 5.39s | Loss: 1.568 | Acc: 59.297% (1384/2334)\n",
      "\n",
      "------------Epoch: 542-------------\n",
      "learning_rate: 0.01\n",
      "[==============================>] | Time: 100.75s | Loss: 1.550 | Acc: 61.375% (11625/18941)\n",
      "[==============================>] | Time: 5.88s | Loss: 1.561 | Acc: 59.512% (1389/2334)\n",
      "\n",
      "------------Epoch: 543-------------\n",
      "learning_rate: 0.01\n",
      "[==============================>] | Time: 99.88s | Loss: 1.549 | Acc: 61.311% (11613/18941)\n",
      "[==============================>] | Time: 7.10s | Loss: 1.565 | Acc: 59.254% (1383/2334)\n",
      "\n",
      "------------Epoch: 544-------------\n",
      "learning_rate: 0.01\n",
      "[==============================>] | Time: 117.10s | Loss: 1.553 | Acc: 60.884% (11532/18941)\n",
      "[==============================>] | Time: 6.59s | Loss: 1.556 | Acc: 60.069% (1402/2334)\n",
      "\n",
      "------------Epoch: 545-------------\n",
      "learning_rate: 0.01\n",
      "[==============================>] | Time: 100.50s | Loss: 1.552 | Acc: 61.084% (11570/18941)\n",
      "[==============================>] | Time: 5.44s | Loss: 1.555 | Acc: 60.326% (1408/2334)\n",
      "\n",
      "------------Epoch: 546-------------\n",
      "learning_rate: 0.01\n",
      "[==============================>] | Time: 100.19s | Loss: 1.553 | Acc: 61.047% (11563/18941)\n",
      "[==============================>] | Time: 5.39s | Loss: 1.555 | Acc: 60.069% (1402/2334)\n",
      "\n",
      "------------Epoch: 547-------------\n",
      "learning_rate: 0.01\n",
      "[==============================>] | Time: 100.01s | Loss: 1.549 | Acc: 61.470% (11643/18941)\n",
      "[==============================>] | Time: 5.48s | Loss: 1.561 | Acc: 59.512% (1389/2334)\n",
      "\n",
      "------------Epoch: 548-------------\n",
      "learning_rate: 0.01\n",
      "[==============================>] | Time: 102.44s | Loss: 1.549 | Acc: 61.438% (11637/18941)\n",
      "[==============================>] | Time: 5.63s | Loss: 1.558 | Acc: 59.726% (1394/2334)\n",
      "\n",
      "------------Epoch: 549-------------\n",
      "learning_rate: 0.01\n",
      "[===============>..............] | Time: 53.96s | Loss: 1.548 | Acc: 61.658% (6077/9856)"
     ]
    },
    {
     "ename": "KeyboardInterrupt",
     "evalue": "",
     "output_type": "error",
     "traceback": [
      "\u001b[1;31m---------------------------------------------------------------------------\u001b[0m",
      "\u001b[1;31mKeyboardInterrupt\u001b[0m                         Traceback (most recent call last)",
      "\u001b[1;32m<ipython-input-7-66d8843cd9de>\u001b[0m in \u001b[0;36m<module>\u001b[1;34m()\u001b[0m\n\u001b[0;32m      2\u001b[0m     \u001b[1;32mfor\u001b[0m \u001b[0mepoch\u001b[0m \u001b[1;32min\u001b[0m \u001b[0mrange\u001b[0m\u001b[1;33m(\u001b[0m\u001b[0mstart_epoch\u001b[0m\u001b[1;33m,\u001b[0m \u001b[0mopt\u001b[0m\u001b[1;33m.\u001b[0m\u001b[0mepoch\u001b[0m\u001b[1;33m,\u001b[0m \u001b[1;36m1\u001b[0m\u001b[1;33m)\u001b[0m\u001b[1;33m:\u001b[0m\u001b[1;33m\u001b[0m\u001b[0m\n\u001b[0;32m      3\u001b[0m         \u001b[0mprint\u001b[0m\u001b[1;33m(\u001b[0m\u001b[1;34m'\\n------------Epoch: %d-------------'\u001b[0m \u001b[1;33m%\u001b[0m \u001b[0mepoch\u001b[0m\u001b[1;33m)\u001b[0m\u001b[1;33m\u001b[0m\u001b[0m\n\u001b[1;32m----> 4\u001b[1;33m         \u001b[0mtrain\u001b[0m\u001b[1;33m(\u001b[0m\u001b[0mepoch\u001b[0m\u001b[1;33m)\u001b[0m\u001b[1;33m\u001b[0m\u001b[0m\n\u001b[0m\u001b[0;32m      5\u001b[0m         \u001b[1;31m# for parameters in net.parameters():\u001b[0m\u001b[1;33m\u001b[0m\u001b[1;33m\u001b[0m\u001b[0m\n\u001b[0;32m      6\u001b[0m         \u001b[1;31m#     print(parameters.size())\u001b[0m\u001b[1;33m\u001b[0m\u001b[1;33m\u001b[0m\u001b[0m\n",
      "\u001b[1;32m<ipython-input-6-56a4b7ad84de>\u001b[0m in \u001b[0;36mtrain\u001b[1;34m(epoch, jump_out_lr)\u001b[0m\n\u001b[0;32m     19\u001b[0m     \u001b[0mcur_train_acc\u001b[0m \u001b[1;33m=\u001b[0m \u001b[1;36m0.\u001b[0m\u001b[1;33m\u001b[0m\u001b[0m\n\u001b[0;32m     20\u001b[0m     \u001b[0mtime_start\u001b[0m \u001b[1;33m=\u001b[0m \u001b[0mtime\u001b[0m\u001b[1;33m.\u001b[0m\u001b[0mtime\u001b[0m\u001b[1;33m(\u001b[0m\u001b[1;33m)\u001b[0m\u001b[1;33m\u001b[0m\u001b[0m\n\u001b[1;32m---> 21\u001b[1;33m     \u001b[1;32mfor\u001b[0m \u001b[0mbatch_idx\u001b[0m\u001b[1;33m,\u001b[0m \u001b[1;33m(\u001b[0m\u001b[0minputs\u001b[0m\u001b[1;33m,\u001b[0m \u001b[0mtargets\u001b[0m\u001b[1;33m)\u001b[0m \u001b[1;32min\u001b[0m \u001b[0menumerate\u001b[0m\u001b[1;33m(\u001b[0m\u001b[0mtrain_loader\u001b[0m\u001b[1;33m)\u001b[0m\u001b[1;33m:\u001b[0m\u001b[1;33m\u001b[0m\u001b[0m\n\u001b[0m\u001b[0;32m     22\u001b[0m         \u001b[1;32mif\u001b[0m \u001b[0muse_cuda\u001b[0m\u001b[1;33m:\u001b[0m\u001b[1;33m\u001b[0m\u001b[0m\n\u001b[0;32m     23\u001b[0m             \u001b[0minputs\u001b[0m\u001b[1;33m,\u001b[0m \u001b[0mtargets\u001b[0m \u001b[1;33m=\u001b[0m \u001b[0minputs\u001b[0m\u001b[1;33m.\u001b[0m\u001b[0mto\u001b[0m\u001b[1;33m(\u001b[0m\u001b[0mDEVICE\u001b[0m\u001b[1;33m)\u001b[0m\u001b[1;33m,\u001b[0m \u001b[0mtargets\u001b[0m\u001b[1;33m.\u001b[0m\u001b[0mto\u001b[0m\u001b[1;33m(\u001b[0m\u001b[0mDEVICE\u001b[0m\u001b[1;33m,\u001b[0m \u001b[0mtorch\u001b[0m\u001b[1;33m.\u001b[0m\u001b[0mlong\u001b[0m\u001b[1;33m)\u001b[0m\u001b[1;33m\u001b[0m\u001b[0m\n",
      "\u001b[1;32mc:\\users\\chaunhewie\\appdata\\local\\programs\\python\\python36\\lib\\site-packages\\torch\\utils\\data\\dataloader.py\u001b[0m in \u001b[0;36m__next__\u001b[1;34m(self)\u001b[0m\n\u001b[0;32m    613\u001b[0m         \u001b[1;32mif\u001b[0m \u001b[0mself\u001b[0m\u001b[1;33m.\u001b[0m\u001b[0mnum_workers\u001b[0m \u001b[1;33m==\u001b[0m \u001b[1;36m0\u001b[0m\u001b[1;33m:\u001b[0m  \u001b[1;31m# same-process loading\u001b[0m\u001b[1;33m\u001b[0m\u001b[0m\n\u001b[0;32m    614\u001b[0m             \u001b[0mindices\u001b[0m \u001b[1;33m=\u001b[0m \u001b[0mnext\u001b[0m\u001b[1;33m(\u001b[0m\u001b[0mself\u001b[0m\u001b[1;33m.\u001b[0m\u001b[0msample_iter\u001b[0m\u001b[1;33m)\u001b[0m  \u001b[1;31m# may raise StopIteration\u001b[0m\u001b[1;33m\u001b[0m\u001b[0m\n\u001b[1;32m--> 615\u001b[1;33m             \u001b[0mbatch\u001b[0m \u001b[1;33m=\u001b[0m \u001b[0mself\u001b[0m\u001b[1;33m.\u001b[0m\u001b[0mcollate_fn\u001b[0m\u001b[1;33m(\u001b[0m\u001b[1;33m[\u001b[0m\u001b[0mself\u001b[0m\u001b[1;33m.\u001b[0m\u001b[0mdataset\u001b[0m\u001b[1;33m[\u001b[0m\u001b[0mi\u001b[0m\u001b[1;33m]\u001b[0m \u001b[1;32mfor\u001b[0m \u001b[0mi\u001b[0m \u001b[1;32min\u001b[0m \u001b[0mindices\u001b[0m\u001b[1;33m]\u001b[0m\u001b[1;33m)\u001b[0m\u001b[1;33m\u001b[0m\u001b[0m\n\u001b[0m\u001b[0;32m    616\u001b[0m             \u001b[1;32mif\u001b[0m \u001b[0mself\u001b[0m\u001b[1;33m.\u001b[0m\u001b[0mpin_memory\u001b[0m\u001b[1;33m:\u001b[0m\u001b[1;33m\u001b[0m\u001b[0m\n\u001b[0;32m    617\u001b[0m                 \u001b[0mbatch\u001b[0m \u001b[1;33m=\u001b[0m \u001b[0mpin_memory_batch\u001b[0m\u001b[1;33m(\u001b[0m\u001b[0mbatch\u001b[0m\u001b[1;33m)\u001b[0m\u001b[1;33m\u001b[0m\u001b[0m\n",
      "\u001b[1;32mc:\\users\\chaunhewie\\appdata\\local\\programs\\python\\python36\\lib\\site-packages\\torch\\utils\\data\\dataloader.py\u001b[0m in \u001b[0;36m<listcomp>\u001b[1;34m(.0)\u001b[0m\n\u001b[0;32m    613\u001b[0m         \u001b[1;32mif\u001b[0m \u001b[0mself\u001b[0m\u001b[1;33m.\u001b[0m\u001b[0mnum_workers\u001b[0m \u001b[1;33m==\u001b[0m \u001b[1;36m0\u001b[0m\u001b[1;33m:\u001b[0m  \u001b[1;31m# same-process loading\u001b[0m\u001b[1;33m\u001b[0m\u001b[0m\n\u001b[0;32m    614\u001b[0m             \u001b[0mindices\u001b[0m \u001b[1;33m=\u001b[0m \u001b[0mnext\u001b[0m\u001b[1;33m(\u001b[0m\u001b[0mself\u001b[0m\u001b[1;33m.\u001b[0m\u001b[0msample_iter\u001b[0m\u001b[1;33m)\u001b[0m  \u001b[1;31m# may raise StopIteration\u001b[0m\u001b[1;33m\u001b[0m\u001b[0m\n\u001b[1;32m--> 615\u001b[1;33m             \u001b[0mbatch\u001b[0m \u001b[1;33m=\u001b[0m \u001b[0mself\u001b[0m\u001b[1;33m.\u001b[0m\u001b[0mcollate_fn\u001b[0m\u001b[1;33m(\u001b[0m\u001b[1;33m[\u001b[0m\u001b[0mself\u001b[0m\u001b[1;33m.\u001b[0m\u001b[0mdataset\u001b[0m\u001b[1;33m[\u001b[0m\u001b[0mi\u001b[0m\u001b[1;33m]\u001b[0m \u001b[1;32mfor\u001b[0m \u001b[0mi\u001b[0m \u001b[1;32min\u001b[0m \u001b[0mindices\u001b[0m\u001b[1;33m]\u001b[0m\u001b[1;33m)\u001b[0m\u001b[1;33m\u001b[0m\u001b[0m\n\u001b[0m\u001b[0;32m    616\u001b[0m             \u001b[1;32mif\u001b[0m \u001b[0mself\u001b[0m\u001b[1;33m.\u001b[0m\u001b[0mpin_memory\u001b[0m\u001b[1;33m:\u001b[0m\u001b[1;33m\u001b[0m\u001b[0m\n\u001b[0;32m    617\u001b[0m                 \u001b[0mbatch\u001b[0m \u001b[1;33m=\u001b[0m \u001b[0mpin_memory_batch\u001b[0m\u001b[1;33m(\u001b[0m\u001b[0mbatch\u001b[0m\u001b[1;33m)\u001b[0m\u001b[1;33m\u001b[0m\u001b[0m\n",
      "\u001b[1;32mE:\\毕设\\代码\\my_scripts\\dal\\FER2013_DataSet.py\u001b[0m in \u001b[0;36m__getitem__\u001b[1;34m(self, index)\u001b[0m\n\u001b[0;32m    129\u001b[0m         \u001b[1;31m# 由于存在 random_crop 等的随机处理，应该是读取的时候进行，这样每个epoch都能够获取不同的random处理\u001b[0m\u001b[1;33m\u001b[0m\u001b[1;33m\u001b[0m\u001b[0m\n\u001b[0;32m    130\u001b[0m         \u001b[1;32mif\u001b[0m \u001b[0mself\u001b[0m\u001b[1;33m.\u001b[0m\u001b[0mtransform\u001b[0m \u001b[1;32mis\u001b[0m \u001b[1;32mnot\u001b[0m \u001b[1;32mNone\u001b[0m\u001b[1;33m:\u001b[0m\u001b[1;33m\u001b[0m\u001b[0m\n\u001b[1;32m--> 131\u001b[1;33m             \u001b[0mimg\u001b[0m \u001b[1;33m=\u001b[0m \u001b[0mself\u001b[0m\u001b[1;33m.\u001b[0m\u001b[0mtransform\u001b[0m\u001b[1;33m(\u001b[0m\u001b[0mimg\u001b[0m\u001b[1;33m)\u001b[0m\u001b[1;33m\u001b[0m\u001b[0m\n\u001b[0m\u001b[0;32m    132\u001b[0m         \u001b[1;32mreturn\u001b[0m \u001b[0mimg\u001b[0m\u001b[1;33m,\u001b[0m \u001b[0mcla\u001b[0m\u001b[1;33m\u001b[0m\u001b[0m\n\u001b[0;32m    133\u001b[0m \u001b[1;33m\u001b[0m\u001b[0m\n",
      "\u001b[1;32mE:\\毕设\\代码\\my_scripts\\transforms\\transforms.py\u001b[0m in \u001b[0;36m__call__\u001b[1;34m(self, img)\u001b[0m\n\u001b[0;32m     41\u001b[0m     \u001b[1;32mdef\u001b[0m \u001b[0m__call__\u001b[0m\u001b[1;33m(\u001b[0m\u001b[0mself\u001b[0m\u001b[1;33m,\u001b[0m \u001b[0mimg\u001b[0m\u001b[1;33m)\u001b[0m\u001b[1;33m:\u001b[0m\u001b[1;33m\u001b[0m\u001b[0m\n\u001b[0;32m     42\u001b[0m         \u001b[1;32mfor\u001b[0m \u001b[0mt\u001b[0m \u001b[1;32min\u001b[0m \u001b[0mself\u001b[0m\u001b[1;33m.\u001b[0m\u001b[0mtransforms\u001b[0m\u001b[1;33m:\u001b[0m\u001b[1;33m\u001b[0m\u001b[0m\n\u001b[1;32m---> 43\u001b[1;33m             \u001b[0mimg\u001b[0m \u001b[1;33m=\u001b[0m \u001b[0mt\u001b[0m\u001b[1;33m(\u001b[0m\u001b[0mimg\u001b[0m\u001b[1;33m)\u001b[0m\u001b[1;33m\u001b[0m\u001b[0m\n\u001b[0m\u001b[0;32m     44\u001b[0m         \u001b[1;32mreturn\u001b[0m \u001b[0mimg\u001b[0m\u001b[1;33m\u001b[0m\u001b[0m\n\u001b[0;32m     45\u001b[0m \u001b[1;33m\u001b[0m\u001b[0m\n",
      "\u001b[1;32mE:\\毕设\\代码\\my_scripts\\transforms\\transforms.py\u001b[0m in \u001b[0;36m__call__\u001b[1;34m(self, img)\u001b[0m\n\u001b[0;32m    637\u001b[0m         \u001b[0mangle\u001b[0m \u001b[1;33m=\u001b[0m \u001b[0mself\u001b[0m\u001b[1;33m.\u001b[0m\u001b[0mget_params\u001b[0m\u001b[1;33m(\u001b[0m\u001b[0mself\u001b[0m\u001b[1;33m.\u001b[0m\u001b[0mdegrees\u001b[0m\u001b[1;33m)\u001b[0m\u001b[1;33m\u001b[0m\u001b[0m\n\u001b[0;32m    638\u001b[0m \u001b[1;33m\u001b[0m\u001b[0m\n\u001b[1;32m--> 639\u001b[1;33m         \u001b[1;32mreturn\u001b[0m \u001b[0mF\u001b[0m\u001b[1;33m.\u001b[0m\u001b[0mrotate\u001b[0m\u001b[1;33m(\u001b[0m\u001b[0mimg\u001b[0m\u001b[1;33m,\u001b[0m \u001b[0mangle\u001b[0m\u001b[1;33m,\u001b[0m \u001b[0mself\u001b[0m\u001b[1;33m.\u001b[0m\u001b[0mresample\u001b[0m\u001b[1;33m,\u001b[0m \u001b[0mself\u001b[0m\u001b[1;33m.\u001b[0m\u001b[0mexpand\u001b[0m\u001b[1;33m,\u001b[0m \u001b[0mself\u001b[0m\u001b[1;33m.\u001b[0m\u001b[0mcenter\u001b[0m\u001b[1;33m)\u001b[0m\u001b[1;33m\u001b[0m\u001b[0m\n\u001b[0m\u001b[0;32m    640\u001b[0m \u001b[1;33m\u001b[0m\u001b[0m\n\u001b[0;32m    641\u001b[0m \u001b[1;33m\u001b[0m\u001b[0m\n",
      "\u001b[1;32mE:\\毕设\\代码\\my_scripts\\transforms\\functional.py\u001b[0m in \u001b[0;36mrotate\u001b[1;34m(img, angle, resample, expand, center)\u001b[0m\n\u001b[0;32m    551\u001b[0m         \u001b[1;32mraise\u001b[0m \u001b[0mTypeError\u001b[0m\u001b[1;33m(\u001b[0m\u001b[1;34m'img should be PIL Image. Got {}'\u001b[0m\u001b[1;33m.\u001b[0m\u001b[0mformat\u001b[0m\u001b[1;33m(\u001b[0m\u001b[0mtype\u001b[0m\u001b[1;33m(\u001b[0m\u001b[0mimg\u001b[0m\u001b[1;33m)\u001b[0m\u001b[1;33m)\u001b[0m\u001b[1;33m)\u001b[0m\u001b[1;33m\u001b[0m\u001b[0m\n\u001b[0;32m    552\u001b[0m \u001b[1;33m\u001b[0m\u001b[0m\n\u001b[1;32m--> 553\u001b[1;33m     \u001b[1;32mreturn\u001b[0m \u001b[0mimg\u001b[0m\u001b[1;33m.\u001b[0m\u001b[0mrotate\u001b[0m\u001b[1;33m(\u001b[0m\u001b[0mangle\u001b[0m\u001b[1;33m,\u001b[0m \u001b[0mresample\u001b[0m\u001b[1;33m,\u001b[0m \u001b[0mexpand\u001b[0m\u001b[1;33m,\u001b[0m \u001b[0mcenter\u001b[0m\u001b[1;33m)\u001b[0m\u001b[1;33m\u001b[0m\u001b[0m\n\u001b[0m\u001b[0;32m    554\u001b[0m \u001b[1;33m\u001b[0m\u001b[0m\n\u001b[0;32m    555\u001b[0m \u001b[1;33m\u001b[0m\u001b[0m\n",
      "\u001b[1;32mc:\\users\\chaunhewie\\appdata\\local\\programs\\python\\python36\\lib\\site-packages\\PIL\\Image.py\u001b[0m in \u001b[0;36mrotate\u001b[1;34m(self, angle, resample, expand, center, translate, fillcolor)\u001b[0m\n\u001b[0;32m   1926\u001b[0m \u001b[1;33m\u001b[0m\u001b[0m\n\u001b[0;32m   1927\u001b[0m         return self.transform((w, h), AFFINE, matrix, resample,\n\u001b[1;32m-> 1928\u001b[1;33m                               fillcolor=fillcolor)\n\u001b[0m\u001b[0;32m   1929\u001b[0m \u001b[1;33m\u001b[0m\u001b[0m\n\u001b[0;32m   1930\u001b[0m     \u001b[1;32mdef\u001b[0m \u001b[0msave\u001b[0m\u001b[1;33m(\u001b[0m\u001b[0mself\u001b[0m\u001b[1;33m,\u001b[0m \u001b[0mfp\u001b[0m\u001b[1;33m,\u001b[0m \u001b[0mformat\u001b[0m\u001b[1;33m=\u001b[0m\u001b[1;32mNone\u001b[0m\u001b[1;33m,\u001b[0m \u001b[1;33m**\u001b[0m\u001b[0mparams\u001b[0m\u001b[1;33m)\u001b[0m\u001b[1;33m:\u001b[0m\u001b[1;33m\u001b[0m\u001b[0m\n",
      "\u001b[1;32mc:\\users\\chaunhewie\\appdata\\local\\programs\\python\\python36\\lib\\site-packages\\PIL\\Image.py\u001b[0m in \u001b[0;36mtransform\u001b[1;34m(self, size, method, data, resample, fill, fillcolor)\u001b[0m\n\u001b[0;32m   2222\u001b[0m         \u001b[1;32melse\u001b[0m\u001b[1;33m:\u001b[0m\u001b[1;33m\u001b[0m\u001b[0m\n\u001b[0;32m   2223\u001b[0m             im.__transformer((0, 0)+size, self, method, data,\n\u001b[1;32m-> 2224\u001b[1;33m                              resample, fillcolor is None)\n\u001b[0m\u001b[0;32m   2225\u001b[0m \u001b[1;33m\u001b[0m\u001b[0m\n\u001b[0;32m   2226\u001b[0m         \u001b[1;32mreturn\u001b[0m \u001b[0mim\u001b[0m\u001b[1;33m\u001b[0m\u001b[0m\n",
      "\u001b[1;32mc:\\users\\chaunhewie\\appdata\\local\\programs\\python\\python36\\lib\\site-packages\\PIL\\Image.py\u001b[0m in \u001b[0;36m__transformer\u001b[1;34m(self, box, image, method, data, resample, fill)\u001b[0m\n\u001b[0;32m   2273\u001b[0m             \u001b[0mresample\u001b[0m \u001b[1;33m=\u001b[0m \u001b[0mNEAREST\u001b[0m\u001b[1;33m\u001b[0m\u001b[0m\n\u001b[0;32m   2274\u001b[0m \u001b[1;33m\u001b[0m\u001b[0m\n\u001b[1;32m-> 2275\u001b[1;33m         \u001b[0mself\u001b[0m\u001b[1;33m.\u001b[0m\u001b[0mim\u001b[0m\u001b[1;33m.\u001b[0m\u001b[0mtransform2\u001b[0m\u001b[1;33m(\u001b[0m\u001b[0mbox\u001b[0m\u001b[1;33m,\u001b[0m \u001b[0mimage\u001b[0m\u001b[1;33m.\u001b[0m\u001b[0mim\u001b[0m\u001b[1;33m,\u001b[0m \u001b[0mmethod\u001b[0m\u001b[1;33m,\u001b[0m \u001b[0mdata\u001b[0m\u001b[1;33m,\u001b[0m \u001b[0mresample\u001b[0m\u001b[1;33m,\u001b[0m \u001b[0mfill\u001b[0m\u001b[1;33m)\u001b[0m\u001b[1;33m\u001b[0m\u001b[0m\n\u001b[0m\u001b[0;32m   2276\u001b[0m \u001b[1;33m\u001b[0m\u001b[0m\n\u001b[0;32m   2277\u001b[0m     \u001b[1;32mdef\u001b[0m \u001b[0mtranspose\u001b[0m\u001b[1;33m(\u001b[0m\u001b[0mself\u001b[0m\u001b[1;33m,\u001b[0m \u001b[0mmethod\u001b[0m\u001b[1;33m)\u001b[0m\u001b[1;33m:\u001b[0m\u001b[1;33m\u001b[0m\u001b[0m\n",
      "\u001b[1;31mKeyboardInterrupt\u001b[0m: "
     ]
    }
   ],
   "source": [
    "if not over_flag:\n",
    "    for epoch in range(start_epoch, opt.epoch, 1):\n",
    "        print('\\n------------Epoch: %d-------------' % epoch)\n",
    "        train(epoch)\n",
    "        test(epoch)\n",
    "    print(train_acc_map)\n",
    "    print(test_acc_map)\n",
    "    save_over_flag()\n",
    "print(\"Trained Over\")"
   ]
  }
 ],
 "metadata": {
  "accelerator": "GPU",
  "colab": {
   "collapsed_sections": [],
   "name": "train_test.ipynb",
   "provenance": [],
   "version": "0.3.2"
  },
  "kernelspec": {
   "display_name": "Python 3",
   "language": "python",
   "name": "python3"
  },
  "language_info": {
   "codemirror_mode": {
    "name": "ipython",
    "version": 3
   },
   "file_extension": ".py",
   "mimetype": "text/x-python",
   "name": "python",
   "nbconvert_exporter": "python",
   "pygments_lexer": "ipython3",
   "version": "3.6.3"
  }
 },
 "nbformat": 4,
 "nbformat_minor": 1
}
