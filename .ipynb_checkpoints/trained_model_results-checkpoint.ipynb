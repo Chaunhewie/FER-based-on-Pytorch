{
 "cells": [
  {
   "cell_type": "code",
   "execution_count": 3,
   "metadata": {},
   "outputs": [],
   "source": [
    "import os\n",
    "import torch\n"
   ]
  },
  {
   "cell_type": "code",
   "execution_count": 6,
   "metadata": {},
   "outputs": [
    {
     "name": "stdout",
     "output_type": "stream",
     "text": [
      "---------------net: ACNN, dataset: JAFFE---------------\n",
      "best_acc: 47\n",
      "best_acc_epoch: 340\n",
      "currect_map: [0, 1, 3, 3, 3, 0, 0]\n",
      "---------------net: ACNN, dataset: CK+48---------------\n",
      "best_acc: 100\n",
      "best_acc_epoch: 140\n",
      "currect_map: [6, 9, 18, 3, 12, 6, 21]\n",
      "---------------net: ACNN, dataset: CK+---------------\n",
      "best_acc: 86\n",
      "best_acc_epoch: 322\n",
      "currect_map: [2, 9, 15, 3, 12, 3, 21]\n",
      "---------------net: ACNN, dataset: FER2013---------------\n",
      "best_acc: 60\n",
      "best_acc_epoch: 486\n",
      "currect_map: [231, 0, 196, 740, 360, 280, 361]\n",
      "---------------net: AlexNet, dataset: JAFFE---------------\n",
      "best_acc: 47\n",
      "best_acc_epoch: 216\n",
      "currect_map: [0, 1, 3, 0, 3, 3, 0]\n",
      "---------------net: AlexNet, dataset: CK+48---------------\n",
      "best_acc: 96\n",
      "best_acc_epoch: 78\n",
      "currect_map: [6, 6, 18, 3, 12, 6, 21]\n",
      "---------------net: AlexNet, dataset: CK+---------------\n",
      "best_acc: 96\n",
      "best_acc_epoch: 96\n",
      "currect_map: [6, 9, 18, 3, 12, 3, 21]\n",
      "---------------net: AlexNet, dataset: FER2013---------------\n",
      "best_acc: 65\n",
      "best_acc_epoch: 89\n",
      "currect_map: [280, 23, 221, 764, 408, 302, 336]\n"
     ]
    }
   ],
   "source": [
    "net_to_save_dir = \"Saved_Models\"\n",
    "saved_model_name = 'Best_model.t7'\n",
    "fold=1\n",
    "enabled_nets = [\"ACNN\", \"AlexNet\"]\n",
    "enabled_datasets = [\"JAFFE\", \"CK+48\", \"CK+\", \"FER2013\"]\n",
    "for net in enabled_nets:\n",
    "    for dataset in enabled_datasets:\n",
    "        net_to_save_path = os.path.join(net_to_save_dir, dataset + '_' + net + \"_\" + str(fold))\n",
    "        checkpoint = torch.load(os.path.join(net_to_save_path, saved_model_name))\n",
    "        best_acc = checkpoint['best_test_acc']\n",
    "        best_acc_epoch = checkpoint['best_test_acc_epoch']\n",
    "        currect_map = checkpoint['correct_map']\n",
    "        print(\"---------------net: %s, dataset: %s---------------\" % (net, dataset))\n",
    "        print(\"best_acc:\", best_acc)\n",
    "        print(\"best_acc_epoch:\", best_acc_epoch)\n",
    "        print(\"currect_map:\", currect_map)"
   ]
  },
  {
   "cell_type": "code",
   "execution_count": null,
   "metadata": {},
   "outputs": [],
   "source": []
  }
 ],
 "metadata": {
  "kernelspec": {
   "display_name": "Python 3",
   "language": "python",
   "name": "python3"
  },
  "language_info": {
   "codemirror_mode": {
    "name": "ipython",
    "version": 3
   },
   "file_extension": ".py",
   "mimetype": "text/x-python",
   "name": "python",
   "nbconvert_exporter": "python",
   "pygments_lexer": "ipython3",
   "version": "3.6.3"
  }
 },
 "nbformat": 4,
 "nbformat_minor": 2
}
