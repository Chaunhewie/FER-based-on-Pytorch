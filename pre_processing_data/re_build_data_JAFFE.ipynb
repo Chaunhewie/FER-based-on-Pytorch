{
 "cells": [
  {
   "cell_type": "code",
   "execution_count": 1,
   "metadata": {},
   "outputs": [],
   "source": [
    "%matplotlib inline"
   ]
  },
  {
   "cell_type": "code",
   "execution_count": 2,
   "metadata": {},
   "outputs": [],
   "source": [
    "'''\n",
    "本文件用于将原始的JAFFE图片数据集按照人物区分，再分成七大类：\n",
    "neutral, happy, sadness, surprise, angry, disgust, fear\n",
    "'''\n",
    "import os\n",
    "import numpy as np\n",
    "from PIL import Image\n",
    "import matplotlib.pyplot as plt\n",
    "import matplotlib.image as mpimg\n",
    "\n",
    "original_data_dir_path = \"../data/raw_data/jaffe\"\n",
    "semantic_rating_data_path = \"../data/raw_data/jaffe/jaffe_semantic_rating_data\"\n",
    "\n",
    "rebuild_dir_pre_path = \"../data/jaffe\""
   ]
  },
  {
   "cell_type": "code",
   "execution_count": 6,
   "metadata": {
    "scrolled": true
   },
   "outputs": [
    {
     "name": "stdout",
     "output_type": "stream",
     "text": [
      "213 213 10\n",
      "['KA', 'UY', 'KL', 'NM', 'YM', 'TM', 'KR', 'NA', 'KM', 'MK']\n"
     ]
    }
   ],
   "source": [
    "# 读取图片列表\n",
    "filenames_list = os.listdir(original_data_dir_path)\n",
    "filenames_map = {}\n",
    "person_name_set = set()\n",
    "for filename in filenames_list.copy():\n",
    "    if filename.split(\".\")[-1] != \"tiff\":\n",
    "        filenames_list.remove(filename)\n",
    "    else:\n",
    "        filenames_map[filename] = \"\"\n",
    "        person_name_set.add(filename[:2])\n",
    "person_name_list = list(person_name_set)\n",
    "print(len(filenames_list), len(filenames_map), len(person_name_list))\n",
    "print(person_name_list)"
   ]
  },
  {
   "cell_type": "code",
   "execution_count": 7,
   "metadata": {},
   "outputs": [],
   "source": [
    "# 建立图片构建的路径目录\n",
    "dirs = [rebuild_dir_pre_path+\"/\"+p for p in person_name_list]\n",
    "dirs.insert(0, rebuild_dir_pre_path)\n",
    "for dir in dirs:\n",
    "    if not os.path.exists(dir):\n",
    "        os.mkdir(dir)\n",
    "    else:\n",
    "        fl = os.listdir(original_data_dir_path)\n",
    "        for filename in fl:\n",
    "            try:\n",
    "                os.remove(os.path.join(dir, filename))\n",
    "            except:\n",
    "                pass"
   ]
  },
  {
   "cell_type": "code",
   "execution_count": 8,
   "metadata": {},
   "outputs": [],
   "source": [
    "def read_semantic_rating_data(file_path, with_FER = True):\n",
    "    '''\n",
    "    读取语义评级数据\n",
    "    '''\n",
    "    with open(file_path, \"r\") as file:\n",
    "        lines = file.readlines()\n",
    "    if with_FER:\n",
    "        return lines[1:220]\n",
    "    else:\n",
    "        return lines[222:409]"
   ]
  },
  {
   "cell_type": "code",
   "execution_count": 9,
   "metadata": {},
   "outputs": [],
   "source": [
    "def get_class_with_semantic_rating_data(lines, filenames_map):\n",
    "    '''\n",
    "    根据给出的语义评级数据来决定分类\n",
    "    '''\n",
    "    for line in lines:\n",
    "        if line[0] == \"#\":\n",
    "            continue\n",
    "        if with_FER:\n",
    "            IND, HAP, SAD, SUR, ANG, DIS, FEA, PIC = line.split(\" \")\n",
    "        else:\n",
    "            IND, HAP, SAD, SUR, ANG, DIS, PIC = line.split(\" \")\n",
    "            FEA = -1.0\n",
    "        if PIC[-1] == \"\\n\":\n",
    "            PIC=PIC[:-1]\n",
    "        PIC = PIC.replace(\"-\", \".\")\n",
    "        filename = PIC+\".\"+IND+\".tiff\"\n",
    "        if filename in filenames_map:\n",
    "            HAP_rate, SAD_rate, SUR_rate, ANG_rate, DIS_rate, FER_rate = float(HAP), float(SAD), float(SUR), float(ANG), float(DIS), float(FEA)\n",
    "#             print(HAP_rate, SAD_rate, SUR_rate, ANG_rate, DIS_rate, DIS_rate, FER_rate)\n",
    "            class_should_be_rate = max(HAP_rate, SAD_rate, SUR_rate, ANG_rate, DIS_rate, FER_rate)\n",
    "            if HAP_rate == class_should_be_rate:\n",
    "                filenames_map[filename] = \"HAP\"\n",
    "            if SAD_rate == class_should_be_rate:\n",
    "                filenames_map[filename] = \"SAD\"\n",
    "            if SUR_rate == class_should_be_rate:\n",
    "                filenames_map[filename] = \"SUR\"\n",
    "            if ANG_rate == class_should_be_rate:\n",
    "                filenames_map[filename] = \"ANG\"\n",
    "            if DIS_rate == class_should_be_rate:\n",
    "                filenames_map[filename] = \"DIS\"\n",
    "            if FER_rate == class_should_be_rate:\n",
    "                filenames_map[filename] = \"FEA\"\n",
    "        else:\n",
    "            print(filename, \"Not Found\")\n",
    "            pass"
   ]
  },
  {
   "cell_type": "code",
   "execution_count": 10,
   "metadata": {},
   "outputs": [],
   "source": [
    "def get_class_with_PIC_name(filenames_map):\n",
    "    '''\n",
    "    根据给出的照片名字来决定分类（即数据库定义的分类）\n",
    "    '''\n",
    "    for filename, _ in filenames_map.items():\n",
    "        if filename[3:5] == \"NE\":\n",
    "            filenames_map[filename] = \"NEU\"\n",
    "        if filename[3:5] == \"HA\":\n",
    "            filenames_map[filename] = \"HAP\"\n",
    "        if filename[3:5] == \"SA\":\n",
    "            filenames_map[filename] = \"SAD\"\n",
    "        if filename[3:5] == \"SU\":\n",
    "            filenames_map[filename] = \"SUR\"\n",
    "        if filename[3:5] == \"AN\":\n",
    "            filenames_map[filename] = \"ANG\"\n",
    "        if filename[3:5] == \"DI\":\n",
    "            filenames_map[filename] = \"DIS\"\n",
    "        if filename[3:5] == \"FE\":\n",
    "            filenames_map[filename] = \"FEA\""
   ]
  },
  {
   "cell_type": "code",
   "execution_count": 11,
   "metadata": {},
   "outputs": [],
   "source": [
    "# 以下两种方式选其一\n",
    "\n",
    "# with_FER = True # 是否加入FER数据（有研究者发现这些人表达FER情绪有些不太准确）\n",
    "# lines = read_semantic_rating_data(semantic_rating_data_path, with_FER)\n",
    "# get_class_with_semantic_rating_data(lines, filenames_map)\n",
    "\n",
    "get_class_with_PIC_name(filenames_map)"
   ]
  },
  {
   "cell_type": "code",
   "execution_count": 12,
   "metadata": {},
   "outputs": [],
   "source": [
    "for filename, c in filenames_map.items():\n",
    "    if c == \"\":\n",
    "        print(filename, \"not get semantic rating data\")\n",
    "        continue\n",
    "    img = Image.open(os.path.join(original_data_dir_path, filename))\n",
    "    img.save(os.path.join(rebuild_dir_pre_path, filename[:2], filename))"
   ]
  },
  {
   "cell_type": "markdown",
   "metadata": {},
   "source": [
    "以下部分是测试使用的代码，可忽略\n",
    "-----------"
   ]
  },
  {
   "cell_type": "code",
   "execution_count": 15,
   "metadata": {},
   "outputs": [
    {
     "name": "stdout",
     "output_type": "stream",
     "text": [
      "[[105 102 108 ... 126 136 132]\n",
      " [102 107 110 ... 132 134 133]\n",
      " [ 99 106 112 ... 132 137 134]\n",
      " ...\n",
      " [ 63  61  58 ... 126 129 138]\n",
      " [ 59  63  55 ... 115 122 139]\n",
      " [ 55  56  51 ... 119 113 119]]\n"
     ]
    }
   ],
   "source": [
    "for filename, c in filenames_map.items():\n",
    "    img_array = mpimg.imread(os.path.join(rebuild_dir_pre_path, filename[:2], filename)) # 直接是 256*256*4 的数据\n",
    "    img = Image.open(os.path.join(rebuild_dir_pre_path, filename[:2], filename)) \n",
    "    img_array = np.array(img) # 256*256 的数据\n",
    "    print(img_array)\n",
    "    break"
   ]
  },
  {
   "cell_type": "code",
   "execution_count": null,
   "metadata": {},
   "outputs": [],
   "source": []
  }
 ],
 "metadata": {
  "kernelspec": {
   "display_name": "Python 3",
   "language": "python",
   "name": "python3"
  },
  "language_info": {
   "codemirror_mode": {
    "name": "ipython",
    "version": 3
   },
   "file_extension": ".py",
   "mimetype": "text/x-python",
   "name": "python",
   "nbconvert_exporter": "python",
   "pygments_lexer": "ipython3",
   "version": "3.6.3"
  }
 },
 "nbformat": 4,
 "nbformat_minor": 2
}
